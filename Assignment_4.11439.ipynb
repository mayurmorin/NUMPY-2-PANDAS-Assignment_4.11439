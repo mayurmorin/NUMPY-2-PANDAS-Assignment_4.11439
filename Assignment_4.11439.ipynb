{
 "cells": [
  {
   "cell_type": "markdown",
   "metadata": {},
   "source": [
    "Task 1.1. Given a sequence of n values x1, x2, ..., xn and a window size k>0, the k-th moving average of\n",
    "the given sequence is defined as follows:\n",
    "The moving average sequence has n-k+1 elements as shown below.\n",
    "The moving averages with k=4 of a ten-value sequence (n=10) is shown below\n",
    "i 1 2 3 4 5 6 7 8 9 10\n",
    "===== == == == == == == == == == ==\n",
    "Input 10 20 30 40 50 60 70 80 90 100\n",
    "y1 25 = (10+20+30+40)/4\n",
    "y2 35 = (20+30+40+50)/4\n",
    "y3 45 = (30+40+50+60)/4\n",
    "y4 55 = (40+50+60+70)/4\n",
    "y5 65 = (50+60+70+80)/4\n",
    "y6 75 = (60+70+80+90)/4\n",
    "y7 85 = (70+80+90+100)/4\n",
    "\n",
    "Thus, the moving average sequence has n-k+1=10-4+1=7 values.\n",
    "Problem Statement:\n",
    "Write a function to find moving average in an array over a window:\n",
    "Test it over [3, 5, 7, 2, 8, 10, 11, 65, 72, 81, 99, 100, 150] and window of 3."
   ]
  },
  {
   "cell_type": "code",
   "execution_count": 1,
   "metadata": {},
   "outputs": [
    {
     "name": "stdout",
     "output_type": "stream",
     "text": [
      "The moving average sequence has n-k+1 elements as shown below: 13-3+1 = 11 array elements\n",
      "The moving averages with k=3 of a thirtheen-value sequence (n=13) is shown below\n",
      "[  5.           4.66666667   5.66666667   6.66666667   9.66666667\n",
      "  28.66666667  49.33333333  72.66666667  84.          93.33333333\n",
      " 116.33333333]\n"
     ]
    }
   ],
   "source": [
    "import numpy as np\n",
    "from numpy import convolve\n",
    " \n",
    "def movingaverage (values, window):          #function to calculate moving average in an array over a window\n",
    "    weights = np.repeat(1.0, window)/window  #array([0.33333333, 0.33333333, 0.33333333])\n",
    "    mov_avg_seq = np.convolve(values, weights, 'valid') #Returns the discrete, linear convolution of two one-dimensional sequences\n",
    "    return mov_avg_seq\n",
    "\n",
    "TestData = [3, 5, 7, 2, 8, 10, 11, 65, 72, 81, 99, 100, 150]\n",
    "print(\"The moving average sequence has n-k+1 elements as shown below: 13-3+1 = 11 array elements\")\n",
    "print(\"The moving averages with k=3 of a thirtheen-value sequence (n=13) is shown below\")\n",
    "array = movingaverage(TestData,3)\n",
    "print(array)"
   ]
  },
  {
   "cell_type": "markdown",
   "metadata": {},
   "source": [
    "Task 2.1. How-to-count-distance-to-the-previous-zero\n",
    "For each value, count the difference back to the previous zero (or the start of the Series,\n",
    "whichever is closer)\n",
    "create a new column 'Y'\n",
    "Consider a DataFrame df where there is an integer column 'X'\n",
    "import pandas as pd\n",
    "df = pd.DataFrame({'X': [7, 2, 0, 3, 4, 2, 5, 0, 3, 4]})"
   ]
  },
  {
   "cell_type": "code",
   "execution_count": 2,
   "metadata": {},
   "outputs": [
    {
     "name": "stdout",
     "output_type": "stream",
     "text": [
      "   X  Y\n",
      "0  7  1\n",
      "1  2  2\n",
      "2  0  0\n",
      "3  3  1\n",
      "4  4  2\n",
      "5  2  3\n",
      "6  5  4\n",
      "7  0  0\n",
      "8  3  1\n",
      "9  4  2\n"
     ]
    }
   ],
   "source": [
    "import pandas as pd\n",
    "df = pd.DataFrame({'X': [7, 2, 0, 3, 4, 2, 5, 0, 3, 4]}) \n",
    "#1:first finding out indices of zeros and adding first indices with -1: [-1,2,7]\n",
    "izero = np.r_[-1, (df['X'] == 0).nonzero()[0]]  \n",
    "#2:Creating array([0, 1, 2, 3, 4, 5, 6, 7, 8, 9])\n",
    "idx = np.arange(len(df))\n",
    "#3:array([0, 1, 2, 3, 4, 5, 6, 7, 8, 9])-array([1, 2, 0, 1, 2, 3, 4, 0, 1, 2])\n",
    "df['Y'] = idx - izero[np.searchsorted(izero - 1, idx) - 1]\n",
    "print(df)"
   ]
  },
  {
   "cell_type": "markdown",
   "metadata": {},
   "source": [
    "Task 2.2. Create a DatetimeIndex that contains each business day of 2015 and use it to index a Series of\n",
    "random numbers."
   ]
  },
  {
   "cell_type": "code",
   "execution_count": 3,
   "metadata": {},
   "outputs": [
    {
     "data": {
      "text/plain": [
       "2015-01-01    0.420839\n",
       "2015-01-02    0.352742\n",
       "2015-01-05    0.815140\n",
       "2015-01-06    0.514058\n",
       "2015-01-07    0.052078\n",
       "2015-01-08    0.392873\n",
       "2015-01-09    0.724817\n",
       "2015-01-12    0.311160\n",
       "2015-01-13    0.663102\n",
       "2015-01-14    0.261048\n",
       "2015-01-15    0.552281\n",
       "2015-01-16    0.925767\n",
       "2015-01-19    0.049622\n",
       "2015-01-20    0.855705\n",
       "2015-01-21    0.950498\n",
       "2015-01-22    0.858956\n",
       "2015-01-23    0.036026\n",
       "2015-01-26    0.869925\n",
       "2015-01-27    0.308040\n",
       "2015-01-28    0.726621\n",
       "2015-01-29    0.465896\n",
       "2015-01-30    0.795508\n",
       "2015-02-02    0.456095\n",
       "2015-02-03    0.266779\n",
       "2015-02-04    0.729899\n",
       "2015-02-05    0.498998\n",
       "2015-02-06    0.203708\n",
       "2015-02-09    0.246903\n",
       "2015-02-10    0.798352\n",
       "2015-02-11    0.258700\n",
       "                ...   \n",
       "2015-11-20    0.645667\n",
       "2015-11-23    0.368172\n",
       "2015-11-24    0.019919\n",
       "2015-11-25    0.391889\n",
       "2015-11-26    0.988016\n",
       "2015-11-27    0.635154\n",
       "2015-11-30    0.118531\n",
       "2015-12-01    0.140145\n",
       "2015-12-02    0.668311\n",
       "2015-12-03    0.529343\n",
       "2015-12-04    0.278928\n",
       "2015-12-07    0.188867\n",
       "2015-12-08    0.396884\n",
       "2015-12-09    0.310716\n",
       "2015-12-10    0.813479\n",
       "2015-12-11    0.409254\n",
       "2015-12-14    0.068052\n",
       "2015-12-15    0.644920\n",
       "2015-12-16    0.133612\n",
       "2015-12-17    0.213988\n",
       "2015-12-18    0.245269\n",
       "2015-12-21    0.866801\n",
       "2015-12-22    0.844885\n",
       "2015-12-23    0.252100\n",
       "2015-12-24    0.919995\n",
       "2015-12-25    0.231209\n",
       "2015-12-28    0.314074\n",
       "2015-12-29    0.545238\n",
       "2015-12-30    0.664929\n",
       "2015-12-31    0.133931\n",
       "Freq: B, Length: 261, dtype: float64"
      ]
     },
     "execution_count": 3,
     "metadata": {},
     "output_type": "execute_result"
    }
   ],
   "source": [
    "dti = pd.date_range(start='2015-01-01', end='2015-12-31', freq='B') #B business day frequency\n",
    "s = pd.Series(np.random.rand(len(dti)), index=dti)                  #creating series for Random values in a given Datetimeindex\n",
    "s"
   ]
  },
  {
   "cell_type": "markdown",
   "metadata": {},
   "source": [
    "Task 2.3. Find the sum of the values in s for every Wednesday"
   ]
  },
  {
   "cell_type": "code",
   "execution_count": 4,
   "metadata": {},
   "outputs": [
    {
     "name": "stdout",
     "output_type": "stream",
     "text": [
      "24.812046758094805\n",
      "24.812046758094805\n"
     ]
    }
   ],
   "source": [
    "print(s[s.index.weekday == 2].sum())     #The day of the week with Monday=0,Tuesday=1,Wednesday=2...Sunday=6\n",
    "print(s[dti.weekday == 2].sum())         #The day of the week with Monday=0,Tuesday=1,Wednesday=2...Sunday=6"
   ]
  },
  {
   "cell_type": "markdown",
   "metadata": {},
   "source": [
    "Task 2.4. Average For each calendar month"
   ]
  },
  {
   "cell_type": "code",
   "execution_count": 5,
   "metadata": {},
   "outputs": [
    {
     "data": {
      "text/plain": [
       "2015-01-31    0.541032\n",
       "2015-02-28    0.377643\n",
       "2015-03-31    0.454692\n",
       "2015-04-30    0.501976\n",
       "2015-05-31    0.491133\n",
       "2015-06-30    0.475475\n",
       "2015-07-31    0.542585\n",
       "2015-08-31    0.475798\n",
       "2015-09-30    0.517817\n",
       "2015-10-31    0.537440\n",
       "2015-11-30    0.499806\n",
       "2015-12-31    0.426736\n",
       "Freq: M, dtype: float64"
      ]
     },
     "execution_count": 5,
     "metadata": {},
     "output_type": "execute_result"
    }
   ],
   "source": [
    "s.resample('M').mean()    #Convenience method for frequency conversion and resampling of time series"
   ]
  },
  {
   "cell_type": "markdown",
   "metadata": {},
   "source": [
    "Task 2.5 For each group of four consecutive calendar months in s, find the date on which the highest\n",
    "value occurred."
   ]
  },
  {
   "cell_type": "code",
   "execution_count": 6,
   "metadata": {},
   "outputs": [
    {
     "data": {
      "text/plain": [
       "2015-01-31   2015-01-21\n",
       "2015-05-31   2015-04-03\n",
       "2015-09-30   2015-06-11\n",
       "2016-01-31   2015-11-26\n",
       "dtype: datetime64[ns]"
      ]
     },
     "execution_count": 6,
     "metadata": {},
     "output_type": "execute_result"
    }
   ],
   "source": [
    "s.groupby(pd.Grouper(freq='4M')).idxmax()"
   ]
  }
 ],
 "metadata": {
  "kernelspec": {
   "display_name": "Python 3",
   "language": "python",
   "name": "python3"
  },
  "language_info": {
   "codemirror_mode": {
    "name": "ipython",
    "version": 3
   },
   "file_extension": ".py",
   "mimetype": "text/x-python",
   "name": "python",
   "nbconvert_exporter": "python",
   "pygments_lexer": "ipython3",
   "version": "3.6.5"
  }
 },
 "nbformat": 4,
 "nbformat_minor": 2
}
